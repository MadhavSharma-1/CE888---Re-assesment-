{
  "nbformat": 4,
  "nbformat_minor": 0,
  "metadata": {
    "colab": {
      "name": "Machine Learning Models.ipynb",
      "provenance": []
    },
    "kernelspec": {
      "name": "python3",
      "display_name": "Python 3"
    },
    "language_info": {
      "name": "python"
    }
  },
  "cells": [
    {
      "cell_type": "markdown",
      "source": [
        "##Read the dataset"
      ],
      "metadata": {
        "id": "3EfhOI9jYvyh"
      }
    },
    {
      "cell_type": "code",
      "source": [
        "import pandas as pd\n",
        "import numpy as np\n",
        "Final_df = pd.read_csv('data-preprocessed.csv')"
      ],
      "metadata": {
        "id": "zEpSupU6YjLy"
      },
      "execution_count": 12,
      "outputs": []
    },
    {
      "cell_type": "markdown",
      "source": [
        "##Stratified K-fold cross-validation with RandomForestClassifier\n",
        "\n"
      ],
      "metadata": {
        "id": "OR334Lq7Wcvu"
      }
    },
    {
      "cell_type": "code",
      "execution_count": 15,
      "metadata": {
        "colab": {
          "base_uri": "https://localhost:8080/"
        },
        "id": "iycJjK26WI5C",
        "outputId": "dca60cbf-99c0-443d-cbfe-85e994f85fa5"
      },
      "outputs": [
        {
          "output_type": "stream",
          "name": "stdout",
          "text": [
            "Train: [ 2306  2307  2308 ... 12076 12077 12078] Validation: [   0    1    2 ... 2591 2596 2600]\n",
            "Train: [    0     1     2 ... 12076 12077 12078] Validation: [2306 2307 2308 ... 5017 5018 5019]\n",
            "Train: [    0     1     2 ... 12076 12077 12078] Validation: [4662 4663 4664 ... 7389 7390 7391]\n",
            "Train: [    0     1     2 ... 12076 12077 12078] Validation: [7136 7137 7138 ... 9680 9681 9682]\n",
            "Train: [   0    1    2 ... 9680 9681 9682] Validation: [ 9649  9650  9651 ... 12076 12077 12078]\n",
            "[0.5865066225165563, 0.7115066225165563, 0.6535596026490066, 0.660182119205298, 0.6815734989648033]\n",
            "0.6586656931704441\n"
          ]
        }
      ],
      "source": [
        "from sklearn.model_selection import StratifiedKFold\n",
        "from sklearn.model_selection import cross_val_score \n",
        "from sklearn.metrics import confusion_matrix,classification_report,accuracy_score\n",
        "from sklearn.ensemble import RandomForestClassifier\n",
        "\n",
        "accuracy = []\n",
        "\n",
        "X = Final_df.drop(['Y'],axis=1)\n",
        "y = Final_df['Y']\n",
        "\n",
        "sk_fold = StratifiedKFold()\n",
        "skf = sk_fold.split(X,y)\n",
        "\n",
        "for train_index, test_index in skf:\n",
        "  print(\"Train:\", train_index, \"Validation:\", test_index)\n",
        "  Xs_train, Xs_test = X.iloc[train_index], X.iloc[test_index]\n",
        "  ys_train, ys_test = y.iloc[train_index], y.iloc[test_index]\n",
        "  clf = RandomForestClassifier()\n",
        "  clf.fit(Xs_train, ys_train)\n",
        "  y_pred = clf.predict(Xs_test)\n",
        "  scores = accuracy_score(y_pred, ys_test)\n",
        "  accuracy.append(scores)\n",
        "\n",
        "\n",
        "\n",
        "print(accuracy)\n",
        "print(np.array(accuracy).mean())\n"
      ]
    },
    {
      "cell_type": "markdown",
      "source": [
        "##Train Test Split"
      ],
      "metadata": {
        "id": "AOs9usxIWrci"
      }
    },
    {
      "cell_type": "code",
      "source": [
        "X = Final_df.drop(['Y'],axis=1)\n",
        "y = Final_df['Y']\n",
        "\n",
        "from sklearn.model_selection import train_test_split\n",
        "X_train, X_test, y_train, y_test = train_test_split(X, y, test_size=0.3, random_state=0)"
      ],
      "metadata": {
        "id": "l-XQ5efsWp4-"
      },
      "execution_count": 19,
      "outputs": []
    },
    {
      "cell_type": "markdown",
      "source": [
        "##Feature Importance"
      ],
      "metadata": {
        "id": "ST8g_GKAW_vG"
      }
    },
    {
      "cell_type": "code",
      "source": [
        "#Mutual info classifier\n",
        "from sklearn.feature_selection import mutual_info_classif\n",
        "m = (mutual_info_classif(X_train,y_train))\n",
        "\n",
        "mutual_info = pd.Series(m)\n",
        "mutual_info.index = X_train.columns\n",
        "\n",
        "mutual_info = mutual_info.sort_values(ascending=False)"
      ],
      "metadata": {
        "id": "UOJgOsqTWvSk"
      },
      "execution_count": null,
      "outputs": []
    },
    {
      "cell_type": "code",
      "source": [
        "len(m)  "
      ],
      "metadata": {
        "id": "F0aAPYIHWv5d"
      },
      "execution_count": null,
      "outputs": []
    },
    {
      "cell_type": "code",
      "source": [
        "ax = mutual_info.plot.bar(figsize=(16,5))\n",
        "figure = ax.get_figure()\n",
        "figure.savefig('Feature importance.png')"
      ],
      "metadata": {
        "id": "vr1h-i9JWvwj"
      },
      "execution_count": null,
      "outputs": []
    },
    {
      "cell_type": "markdown",
      "source": [
        "##Hyperparameter tuning using 10-fold GridSearchCV on Random Forest"
      ],
      "metadata": {
        "id": "gO4X4JG7XbhY"
      }
    },
    {
      "cell_type": "code",
      "source": [
        "# Number of trees in random forest\n",
        "n_estimators = [50,100,200,300,400,500]#[int(x) for x in np.linspace(start = 10, stop = 100, num = 10)]\n",
        "# Number of features to consider at every split\n",
        "max_features = ['auto', 'sqrt']\n",
        "# Maximum number of levels in tree\n",
        "max_depth = [2,4]\n",
        "# Minimum number of samples required to split a node\n",
        "min_samples_split = [2, 5]\n",
        "# Minimum number of samples required at each leaf node\n",
        "min_samples_leaf = [1, 2,]\n",
        "# Method of selecting samples for training each tree\n",
        "bootstrap = [True, False]"
      ],
      "metadata": {
        "id": "abROQi2xWvt6"
      },
      "execution_count": 6,
      "outputs": []
    },
    {
      "cell_type": "code",
      "source": [
        "# Create the param grid\n",
        "param_grid = { 'n_estimators': n_estimators,\n",
        "               'max_features': max_features,\n",
        "               'max_depth': max_depth,\n",
        "               'min_samples_split': min_samples_split,\n",
        "               'min_samples_leaf': min_samples_leaf,\n",
        "               'bootstrap': bootstrap}\n",
        "print(param_grid)"
      ],
      "metadata": {
        "colab": {
          "base_uri": "https://localhost:8080/"
        },
        "id": "YBbReXqsXI8Q",
        "outputId": "85a060d4-5f1f-4f90-b170-72984a473294"
      },
      "execution_count": 7,
      "outputs": [
        {
          "output_type": "stream",
          "name": "stdout",
          "text": [
            "{'n_estimators': [50, 100, 200, 300, 400, 500], 'max_features': ['auto', 'sqrt'], 'max_depth': [2, 4], 'min_samples_split': [2, 5], 'min_samples_leaf': [1, 2], 'bootstrap': [True, False]}\n"
          ]
        }
      ]
    },
    {
      "cell_type": "code",
      "source": [
        "rf_Model = RandomForestClassifier(criterion='entropy')"
      ],
      "metadata": {
        "id": "vQ4ms-ZHXLe-"
      },
      "execution_count": 8,
      "outputs": []
    },
    {
      "cell_type": "code",
      "source": [
        "from sklearn.model_selection import GridSearchCV\n",
        "rf_Grid = GridSearchCV(estimator = rf_Model, param_grid = param_grid, cv = 10, verbose=2, n_jobs = 4)"
      ],
      "metadata": {
        "id": "PXdO5ac3XOLL"
      },
      "execution_count": 16,
      "outputs": []
    },
    {
      "cell_type": "code",
      "source": [
        "rf_Grid.fit(X_train, y_train)"
      ],
      "metadata": {
        "colab": {
          "base_uri": "https://localhost:8080/",
          "height": 164
        },
        "id": "5uxckUacXRoT",
        "outputId": "d38d1a6f-2d22-47ab-8671-63b0a77f3b5b"
      },
      "execution_count": 10,
      "outputs": [
        {
          "output_type": "error",
          "ename": "NameError",
          "evalue": "ignored",
          "traceback": [
            "\u001b[0;31m---------------------------------------------------------------------------\u001b[0m",
            "\u001b[0;31mNameError\u001b[0m                                 Traceback (most recent call last)",
            "\u001b[0;32m<ipython-input-10-bd1f119054b7>\u001b[0m in \u001b[0;36m<module>\u001b[0;34m\u001b[0m\n\u001b[0;32m----> 1\u001b[0;31m \u001b[0mrf_Grid\u001b[0m\u001b[0;34m.\u001b[0m\u001b[0mfit\u001b[0m\u001b[0;34m(\u001b[0m\u001b[0mX_train\u001b[0m\u001b[0;34m,\u001b[0m \u001b[0my_train\u001b[0m\u001b[0;34m)\u001b[0m\u001b[0;34m\u001b[0m\u001b[0;34m\u001b[0m\u001b[0m\n\u001b[0m",
            "\u001b[0;31mNameError\u001b[0m: name 'X_train' is not defined"
          ]
        }
      ]
    },
    {
      "cell_type": "code",
      "source": [
        "rf_Grid.best_params_"
      ],
      "metadata": {
        "id": "TK8_YS12XT6X"
      },
      "execution_count": null,
      "outputs": []
    },
    {
      "cell_type": "code",
      "source": [
        "predict = rf_Grid.predict(X_test)"
      ],
      "metadata": {
        "id": "pDEF65-tXX8w"
      },
      "execution_count": null,
      "outputs": []
    },
    {
      "cell_type": "code",
      "source": [
        "from sklearn.metrics import confusion_matrix,classification_report,accuracy_score\n",
        "print(confusion_matrix(y_test,predict))\n",
        "print(accuracy_score(y_test,predict))\n",
        "print(classification_report(y_test,predict))"
      ],
      "metadata": {
        "id": "zJBRQWlhXaeo"
      },
      "execution_count": null,
      "outputs": []
    },
    {
      "cell_type": "markdown",
      "source": [
        "##Hyperparameter tuning using 10-fold GridSearchSV on K-NN"
      ],
      "metadata": {
        "id": "1CoAjcM4YE7Y"
      }
    },
    {
      "cell_type": "code",
      "source": [
        "from sklearn.neighbors import KNeighborsClassifier\n",
        "knn_model = KNeighborsClassifier(n_neighbors=3)"
      ],
      "metadata": {
        "id": "9-lR4SmsX0Ic"
      },
      "execution_count": 4,
      "outputs": []
    },
    {
      "cell_type": "code",
      "source": [
        "k=GridSearchCV(estimator=KNeighborsClassifier(),\n",
        "             param_grid={'n_neighbors': range(1, 50),\n",
        "                         'weights': ['uniform', 'distance']},\n",
        "              cv = 10, verbose=2, n_jobs = 4)"
      ],
      "metadata": {
        "colab": {
          "base_uri": "https://localhost:8080/",
          "height": 215
        },
        "id": "NOTNgzK2X0Fq",
        "outputId": "ac95dcfb-e37a-4f8e-a1a4-e829abb94e36"
      },
      "execution_count": 5,
      "outputs": [
        {
          "output_type": "error",
          "ename": "NameError",
          "evalue": "ignored",
          "traceback": [
            "\u001b[0;31m---------------------------------------------------------------------------\u001b[0m",
            "\u001b[0;31mNameError\u001b[0m                                 Traceback (most recent call last)",
            "\u001b[0;32m<ipython-input-5-3bbc1a7b4a60>\u001b[0m in \u001b[0;36m<module>\u001b[0;34m\u001b[0m\n\u001b[0;32m----> 1\u001b[0;31m k=GridSearchCV(estimator=KNeighborsClassifier(),\n\u001b[0m\u001b[1;32m      2\u001b[0m              param_grid={'n_neighbors': range(1, 50),\n\u001b[1;32m      3\u001b[0m                          'weights': ['uniform', 'distance']},\n\u001b[1;32m      4\u001b[0m               cv = 10, verbose=2, n_jobs = 4)\n",
            "\u001b[0;31mNameError\u001b[0m: name 'GridSearchCV' is not defined"
          ]
        }
      ]
    },
    {
      "cell_type": "code",
      "source": [
        "k.fit(X_train,y_train)\n",
        "predict = k.predict(X_test)"
      ],
      "metadata": {
        "id": "G3eDxeSkX0De"
      },
      "execution_count": null,
      "outputs": []
    },
    {
      "cell_type": "code",
      "source": [
        "k.best_params_"
      ],
      "metadata": {
        "id": "xk_jSXyVX0A_"
      },
      "execution_count": null,
      "outputs": []
    },
    {
      "cell_type": "code",
      "source": [
        "from sklearn.metrics import confusion_matrix,classification_report,accuracy_score\n",
        "print(confusion_matrix(y_test,predict))\n",
        "print(accuracy_score(y_test,predict))\n",
        "print(classification_report(y_test,predict))"
      ],
      "metadata": {
        "id": "l9aWYp0hXz67"
      },
      "execution_count": null,
      "outputs": []
    },
    {
      "cell_type": "markdown",
      "source": [
        "##Hyperparameter tuning using 10-fold GridSearchSV on AdaBoost"
      ],
      "metadata": {
        "id": "PBaIHJ1AYXZW"
      }
    },
    {
      "cell_type": "code",
      "source": [
        "from sklearn.ensemble import AdaBoostClassifier\n",
        "from sklearn.ensemble import RandomForestClassifier\n",
        "abc = AdaBoostClassifier(base_estimator=RandomForestClassifier())\n",
        "\n",
        "#int(x) for x in np.linspace(start = 10, stop = 50, num = 10)\n",
        "parameters = {'base_estimator__min_samples_leaf':[5,7],\n",
        "              'n_estimators':[10,15],\n",
        "              'learning_rate':[1.0]}\n",
        "\n",
        "clf = GridSearchCV(abc, parameters,cv=10,scoring='f1',n_jobs=4)\n",
        "clf.fit(X_train,y_train)"
      ],
      "metadata": {
        "id": "wUeCimRkYNIF"
      },
      "execution_count": null,
      "outputs": []
    },
    {
      "cell_type": "code",
      "source": [
        "clf.best_params_"
      ],
      "metadata": {
        "id": "3BHtsMusYM-X"
      },
      "execution_count": null,
      "outputs": []
    },
    {
      "cell_type": "code",
      "source": [
        "y_pred = clf.predict(X_test)\n",
        "from sklearn.metrics import confusion_matrix,classification_report,accuracy_score\n",
        "print(confusion_matrix(y_test,y_pred))\n",
        "print(accuracy_score(y_test,y_pred))\n",
        "print(classification_report(y_test,y_pred))\n"
      ],
      "metadata": {
        "id": "42uP4UrHYM2q"
      },
      "execution_count": null,
      "outputs": []
    }
  ]
}